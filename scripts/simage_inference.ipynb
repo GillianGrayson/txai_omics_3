{
 "cells": [
  {
   "cell_type": "markdown",
   "source": [
    "# Debugging autoreload"
   ],
   "metadata": {
    "collapsed": false
   },
   "id": "24e9eed9dc677696"
  },
  {
   "cell_type": "code",
   "outputs": [],
   "source": [
    "%load_ext autoreload\n",
    "%autoreload 2"
   ],
   "metadata": {
    "collapsed": false
   },
   "id": "e7455f0d281f0374",
   "execution_count": null
  },
  {
   "cell_type": "markdown",
   "source": [
    "# Load packages"
   ],
   "metadata": {
    "collapsed": false
   },
   "id": "1cd97c416e295f36"
  },
  {
   "cell_type": "code",
   "execution_count": null,
   "id": "initial_id",
   "metadata": {
    "collapsed": true
   },
   "outputs": [],
   "source": [
    "from src.simage import inference\n",
    "import pandas as pd\n",
    "import os\n",
    "from pathlib import Path"
   ]
  },
  {
   "cell_type": "markdown",
   "source": [
    "# Load data"
   ],
   "metadata": {
    "collapsed": false
   },
   "id": "ebc26a209caa68cc"
  },
  {
   "cell_type": "code",
   "outputs": [],
   "source": [
    "root_dir = Path(os.getcwd()).parent\n",
    "\n",
    "df = pd.read_excel(f\"{root_dir}/data/immuno/data.xlsx\", index_col=0)\n",
    "feats = pd.read_excel(f\"{root_dir}/data/immuno/feats.xlsx\", index_col=0).index.values.tolist()\n",
    "df = df.loc[:, feats + ['Age']]\n",
    "\n",
    "inference(f\"{root_dir}/data/immuno/model.ckpt\", df)"
   ],
   "metadata": {
    "collapsed": false
   },
   "id": "d7ed78834bcdcb8f",
   "execution_count": null
  }
 ],
 "metadata": {
  "kernelspec": {
   "display_name": "Python 3",
   "language": "python",
   "name": "python3"
  },
  "language_info": {
   "codemirror_mode": {
    "name": "ipython",
    "version": 2
   },
   "file_extension": ".py",
   "mimetype": "text/x-python",
   "name": "python",
   "nbconvert_exporter": "python",
   "pygments_lexer": "ipython2",
   "version": "2.7.6"
  }
 },
 "nbformat": 4,
 "nbformat_minor": 5
}
